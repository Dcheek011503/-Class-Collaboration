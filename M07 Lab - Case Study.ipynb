{
 "cells": [
  {
   "cell_type": "code",
   "execution_count": null,
   "id": "74b48fb8-ae7f-4e72-9b19-91bcdf9504b0",
   "metadata": {},
   "outputs": [],
   "source": [
    "import pandas as pd\n",
    "sal = pd.read_csv('Salaries.csv')\n",
    "sal.head()\n",
    "print ('Head of Data Frame:')\n",
    "print (sal.head())\n",
    "sal.info()\n",
    "print ('\\nNumber of entries:')\n",
    "print (sal.info())\n",
    "sal['BasePay'].mean()\n",
    "print ('\\nAverage base pay:')\n",
    "print (sal['BasePay'].mean())\n",
    "sal['OvertimePay'].max()\n",
    "print ('\\nMax overtime:')\n",
    "print (sal['OvertimePay'].max())\n",
    "sal[sal['EmployeeName']=='JOSEPH DRISCOLL']['JobTitle']\n",
    "print ('\\nJob title of JD:')\n",
    "print (sal[sal['EmployeeName']=='JOSEPH DRISCOLL']['JobTitle'])\n",
    "sal[sal['EmployeeName']=='JOSEPH DRISCOLL']['TotalPayBenefits']\n",
    "print ('\\nJD makes:')\n",
    "print (sal[sal['EmployeeName']=='JOSEPH DRISCOLL']['TotalPayBenefits'])\n",
    "sal.loc[sal['TotalPayBenefits'].idxmax()]\n",
    "print ('\\nHighest paid:')\n",
    "print (sal.loc[sal['TotalPayBenefits'].idxmax()])\n",
    "sal.loc[sal['TotalPayBenefits'].idxmin()]['EmployeeName']\n",
    "print ('\\nLowest paid:')\n",
    "print (sal.loc[sal['TotalPayBenefits'].idxmin()]['EmployeeName'])\n",
    "sal.groupby('Year').mean()['BasePay']\n",
    "print ('\\nAverage base pay:')\n",
    "print (sal.groupby('Year').mean()['BasePay'])\n",
    "sal['JobTitle'].nunique()\n",
    "print ('\\nNumber of unique job titles:')\n",
    "print (sal['JobTitle'].nunique())\n",
    "sal['JobTitle'].value_counts().head(5)\n",
    "print ('\\n5 most common jobs:')\n",
    "print (sal['JobTitle'].value_counts().head(5))\n",
    "sum(sal[sal['Year']==2013]['JobTitle'].value_counts() == 1)\n",
    "print ('\\nJob titles with only one occurence in 2013:')\n",
    "print (sum(sal[sal['Year']==2013]['JobTitle'].value_counts() == 1))\n",
    "def chief_check(title):\n",
    "    if 'chief' in title.lower():\n",
    "        return True\n",
    "    else:\n",
    "        return False\n",
    "print ('\\nJobs with Chief in title:')    \n",
    "sum(sal['JobTitle'].apply(lambda x: chief_check(x)))    "
   ]
  }
 ],
 "metadata": {
  "kernelspec": {
   "display_name": "Python 3 (ipykernel)",
   "language": "python",
   "name": "python3"
  },
  "language_info": {
   "codemirror_mode": {
    "name": "ipython",
    "version": 3
   },
   "file_extension": ".py",
   "mimetype": "text/x-python",
   "name": "python",
   "nbconvert_exporter": "python",
   "pygments_lexer": "ipython3",
   "version": "3.9.13"
  }
 },
 "nbformat": 4,
 "nbformat_minor": 5
}
